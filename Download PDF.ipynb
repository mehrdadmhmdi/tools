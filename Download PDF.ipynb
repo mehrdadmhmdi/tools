{
 "cells": [
  {
   "cell_type": "markdown",
   "id": "9ef44542-3412-4b6f-b9d6-044684f0304e",
   "metadata": {},
   "source": [
    "# Info"
   ]
  },
  {
   "cell_type": "markdown",
   "id": "3fb788a1-7c2d-4991-a402-a6fce0e4b5ca",
   "metadata": {},
   "source": [
    "### Below Function Download all Pdf files from a URL\n"
   ]
  },
  {
   "cell_type": "code",
   "execution_count": 1,
   "id": "e7b6e89e-819d-438b-a8d5-df153ea99708",
   "metadata": {},
   "outputs": [],
   "source": [
    "import os\n",
    "def extract_url_pdf(input_url,folder_path=os.getcwd()):\n",
    "    import os\n",
    "    import requests\n",
    "    from urllib.parse import urljoin\n",
    "    from bs4 import BeautifulSoup\n",
    "    import pandas as pd\n",
    "    import datetime\n",
    "    \n",
    "    url = input_url\n",
    "    #If there is no such folder, the script will create one automatically\n",
    "    folder_location = folder_path\n",
    "    if not os.path.exists(folder_location):os.mkdir(folder_location)\n",
    "    response = requests.get(url)\n",
    "    soup= BeautifulSoup(response.text, \"html.parser\") \n",
    "    link_text=list()\n",
    "    link_href=list()\n",
    "    link_file=list()\n",
    "    counter=0\n",
    "    for link in soup.select(\"a[href$='.pdf']\"):\n",
    "        #Name the pdf files using the last portion of each link which are unique in this case\n",
    "        filename = os.path.join(folder_location,link['href'].split('/')[-1])\n",
    "        with open(filename, 'wb') as f:\n",
    "            f.write(requests.get(urljoin(url,link['href'])).content)\n",
    "        link_text.append(str(link.text))\n",
    "        link_href.append(link['href'])\n",
    "        link_file.append(link['href'].split('/')[-1])\n",
    "        counter+=1\n",
    "        print(counter, \"-Files Extracted from URL named \",link['href'].split('/')[-1])\n",
    "    table_dict={\"Text\":link_text,\"Url_Link\":link_href,\"File Name\":link_file}\n",
    "    df=pd.DataFrame(table_dict)\n",
    "    time_stamp = datetime.datetime.now().strftime('%Y-%m-%d %H-%M-%S')\n",
    "    print(\"Creating an Excel file with Name of FIle, Url Link and Link Text...\")\n",
    "    new_excel_file=os.path.join(folder_location,\"PDF_List_\"+time_stamp+\".xlsx\")\n",
    "    writer = pd.ExcelWriter(new_excel_file, engine='xlsxwriter')\n",
    "    df.to_excel(writer, sheet_name=\"Output\")  \n",
    "    writer.close()\n",
    "    print(\"All Pdf files downloaded and Excel File Created\")"
   ]
  },
  {
   "cell_type": "markdown",
   "id": "1acc4973-d2a1-4626-a862-3f9e03d5e687",
   "metadata": {},
   "source": [
    "# Example"
   ]
  },
  {
   "cell_type": "code",
   "execution_count": 2,
   "id": "a7993ede-5b04-419d-8295-45495f28bd94",
   "metadata": {},
   "outputs": [],
   "source": [
    "URL         = \"https://dspace.mit.edu/bitstream/handle/1721.1/49508/18-175Spring-2007/OcwWeb/Mathematics/18-175Spring-2007/LectureNotes/index.htm\"\n",
    "# below is default path is ,  you can change this to custom path\n",
    "Donwload_path = os.getcwd()\n",
    "\n",
    "extract_url_pdf(input_url=URL, folder_path = Donwload_path)"
   ]
  }
 ],
 "metadata": {
  "kernelspec": {
   "display_name": "Python 3 (ipykernel)",
   "language": "python",
   "name": "python3"
  },
  "language_info": {
   "codemirror_mode": {
    "name": "ipython",
    "version": 3
   },
   "file_extension": ".py",
   "mimetype": "text/x-python",
   "name": "python",
   "nbconvert_exporter": "python",
   "pygments_lexer": "ipython3",
   "version": "3.11.8"
  }
 },
 "nbformat": 4,
 "nbformat_minor": 5
}
